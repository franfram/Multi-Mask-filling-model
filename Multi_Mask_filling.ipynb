{
  "nbformat": 4,
  "nbformat_minor": 0,
  "metadata": {
    "colab": {
      "provenance": [],
      "collapsed_sections": [],
      "authorship_tag": "ABX9TyMs/G0HpSl2nuLgw+uKbdYX",
      "include_colab_link": true
    },
    "kernelspec": {
      "name": "python3",
      "display_name": "Python 3"
    },
    "language_info": {
      "name": "python"
    }
  },
  "cells": [
    {
      "cell_type": "markdown",
      "metadata": {
        "id": "view-in-github",
        "colab_type": "text"
      },
      "source": [
        "<a href=\"https://colab.research.google.com/github/franfram/Multi-Mask-filling-model/blob/main/Multi_Mask_filling.ipynb\" target=\"_parent\"><img src=\"https://colab.research.google.com/assets/colab-badge.svg\" alt=\"Open In Colab\"/></a>"
      ]
    },
    {
      "cell_type": "markdown",
      "source": [
        "Test of Multi Mask filling pipeline"
      ],
      "metadata": {
        "id": "I_ruAA3HUK6-"
      }
    },
    {
      "cell_type": "code",
      "execution_count": null,
      "metadata": {
        "colab": {
          "base_uri": "https://localhost:8080/"
        },
        "id": "vObHkr20UFGk",
        "outputId": "30114b23-44a3-4433-924a-3bba2a7bc5d9"
      },
      "outputs": [
        {
          "output_type": "stream",
          "name": "stdout",
          "text": [
            "Looking in indexes: https://pypi.org/simple, https://us-python.pkg.dev/colab-wheels/public/simple/\n",
            "Collecting transformers\n",
            "  Downloading transformers-4.23.1-py3-none-any.whl (5.3 MB)\n",
            "\u001b[K     |████████████████████████████████| 5.3 MB 7.5 MB/s \n",
            "\u001b[?25hRequirement already satisfied: filelock in /usr/local/lib/python3.7/dist-packages (from transformers) (3.8.0)\n",
            "Requirement already satisfied: numpy>=1.17 in /usr/local/lib/python3.7/dist-packages (from transformers) (1.21.6)\n",
            "Requirement already satisfied: importlib-metadata in /usr/local/lib/python3.7/dist-packages (from transformers) (5.0.0)\n",
            "Collecting huggingface-hub<1.0,>=0.10.0\n",
            "  Downloading huggingface_hub-0.10.1-py3-none-any.whl (163 kB)\n",
            "\u001b[K     |████████████████████████████████| 163 kB 51.0 MB/s \n",
            "\u001b[?25hRequirement already satisfied: tqdm>=4.27 in /usr/local/lib/python3.7/dist-packages (from transformers) (4.64.1)\n",
            "Requirement already satisfied: pyyaml>=5.1 in /usr/local/lib/python3.7/dist-packages (from transformers) (6.0)\n",
            "Requirement already satisfied: packaging>=20.0 in /usr/local/lib/python3.7/dist-packages (from transformers) (21.3)\n",
            "Requirement already satisfied: regex!=2019.12.17 in /usr/local/lib/python3.7/dist-packages (from transformers) (2022.6.2)\n",
            "Requirement already satisfied: requests in /usr/local/lib/python3.7/dist-packages (from transformers) (2.23.0)\n",
            "Collecting tokenizers!=0.11.3,<0.14,>=0.11.1\n",
            "  Downloading tokenizers-0.13.1-cp37-cp37m-manylinux_2_17_x86_64.manylinux2014_x86_64.whl (7.6 MB)\n",
            "\u001b[K     |████████████████████████████████| 7.6 MB 57.6 MB/s \n",
            "\u001b[?25hRequirement already satisfied: typing-extensions>=3.7.4.3 in /usr/local/lib/python3.7/dist-packages (from huggingface-hub<1.0,>=0.10.0->transformers) (4.1.1)\n",
            "Requirement already satisfied: pyparsing!=3.0.5,>=2.0.2 in /usr/local/lib/python3.7/dist-packages (from packaging>=20.0->transformers) (3.0.9)\n",
            "Requirement already satisfied: zipp>=0.5 in /usr/local/lib/python3.7/dist-packages (from importlib-metadata->transformers) (3.9.0)\n",
            "Requirement already satisfied: certifi>=2017.4.17 in /usr/local/lib/python3.7/dist-packages (from requests->transformers) (2022.9.24)\n",
            "Requirement already satisfied: urllib3!=1.25.0,!=1.25.1,<1.26,>=1.21.1 in /usr/local/lib/python3.7/dist-packages (from requests->transformers) (1.24.3)\n",
            "Requirement already satisfied: chardet<4,>=3.0.2 in /usr/local/lib/python3.7/dist-packages (from requests->transformers) (3.0.4)\n",
            "Requirement already satisfied: idna<3,>=2.5 in /usr/local/lib/python3.7/dist-packages (from requests->transformers) (2.10)\n",
            "Installing collected packages: tokenizers, huggingface-hub, transformers\n",
            "Successfully installed huggingface-hub-0.10.1 tokenizers-0.13.1 transformers-4.23.1\n"
          ]
        }
      ],
      "source": [
        "!pip install transformers"
      ]
    },
    {
      "cell_type": "code",
      "source": [
        "from transformers import RobertaTokenizer, RobertaForMaskedLM\n",
        "import torch\n",
        "\n",
        "tokenizer = RobertaTokenizer.from_pretrained('roberta-base')\n",
        "model = RobertaForMaskedLM.from_pretrained('roberta-base')\n",
        "\n",
        "sentence = \"quiero comer un ___ ___ ___\" #@param {type: \"string\"}\n",
        "\n",
        "\n",
        "def get_prediction (sent):\n",
        "    \n",
        "    token_ids = tokenizer.encode(sent, return_tensors='pt')\n",
        "    masked_position = (token_ids.squeeze() == tokenizer.mask_token_id).nonzero()\n",
        "    masked_pos = [mask.item() for mask in masked_position ]\n",
        "\n",
        "    with torch.no_grad():\n",
        "        output = model(token_ids)\n",
        "\n",
        "    last_hidden_state = output[0].squeeze()\n",
        "\n",
        "    list_of_list =[]\n",
        "    for index,mask_index in enumerate(masked_pos):\n",
        "        mask_hidden_state = last_hidden_state[mask_index]\n",
        "        idx = torch.topk(mask_hidden_state, k=5, dim=0)[1]\n",
        "        words = [tokenizer.decode(i.item()).strip() for i in idx]\n",
        "        list_of_list.append(words)\n",
        "        print (\"Mask \",index+1,\"Guesses : \",words)\n",
        "    \n",
        "    best_guess = \"\"\n",
        "    for j in list_of_list:\n",
        "        best_guess = best_guess+\" \"+j[0]\n",
        "        \n",
        "    return best_guess\n",
        "\n",
        "\n",
        "print (\"Original Sentence: \",sentence)\n",
        "sentence = sentence.replace(\"___\",\"<mask>\")\n",
        "print (\"Original Sentence replaced with mask: \",sentence)\n",
        "print (\"\\n\")\n",
        "\n",
        "predicted_blanks = get_prediction(sentence)\n",
        "print (\"\\nBest guess for fill in the blank :::\",predicted_blanks)\n"
      ],
      "metadata": {
        "colab": {
          "base_uri": "https://localhost:8080/"
        },
        "id": "0yesUFumbIQY",
        "outputId": "34670f69-6bb4-451a-fb28-929df1b3600a"
      },
      "execution_count": null,
      "outputs": [
        {
          "output_type": "stream",
          "name": "stdout",
          "text": [
            "Original Sentence:  quiero comer un ___ ___ ___\n",
            "Original Sentence replaced with mask:  quiero comer un <mask> <mask> <mask>\n",
            "\n",
            "\n",
            "Mask  1 Guesses :  ['a', 'p', 'm', 'pa', 'aut']\n",
            "Mask  2 Guesses :  ['o', 'ado', 'e', 'io', 'a']\n",
            "Mask  3 Guesses :  ['.', '?', 'o', '</s>', ':']\n",
            "\n",
            "Best guess for fill in the blank :::  a o .\n"
          ]
        }
      ]
    },
    {
      "cell_type": "code",
      "source": [
        "from transformers import RobertaTokenizer, RobertaForMaskedLM\n",
        "\n",
        "import torch\n",
        "\n",
        "tokenizer = RobertaTokenizer.from_pretrained('roberta-base')\n",
        "\n",
        "model = RobertaForMaskedLM.from_pretrained('roberta-base')\n",
        "\n",
        "sentence = \"\\\"\\\"\\\"quiero comer \\u003Cmask> \\u003Cmask>.\\\"\\\"\\\"\" #@param {type: \"string\"}\n",
        "\n",
        "token_ids = tokenizer.encode(sentence, return_tensors='pt')\n",
        "\n",
        "# print(token_ids)\n",
        "\n",
        "token_ids_tk = tokenizer.tokenize(sentence, return_tensors='pt')\n",
        "\n",
        "print(token_ids_tk)\n",
        "\n",
        "masked_position = (token_ids.squeeze() == tokenizer.mask_token_id).nonzero()\n",
        "\n",
        "masked_pos = [mask.item() for mask in masked_position ]\n",
        "\n",
        "print (masked_pos)\n",
        "\n",
        "with torch.no_grad():\n",
        "\n",
        "    output = model(token_ids)\n",
        "\n",
        "last_hidden_state = output[0].squeeze()\n",
        "\n",
        "print (\"\\n\\n\")\n",
        "\n",
        "print (\"sentence : \",sentence)\n",
        "\n",
        "print (\"\\n\")\n",
        "\n",
        "list_of_list =[]\n",
        "\n",
        "for mask_index in masked_pos:\n",
        "\n",
        "    mask_hidden_state = last_hidden_state[mask_index]\n",
        "\n",
        "    idx = torch.topk(mask_hidden_state, k=100, dim=0)[1]\n",
        "\n",
        "    words = [tokenizer.decode(i.item()).strip() for i in idx]\n",
        "\n",
        "    list_of_list.append(words)\n",
        "\n",
        "    print (words)\n",
        "\n",
        "    \n",
        "\n",
        "best_guess = \"\"\n",
        "\n",
        "for j in list_of_list:\n",
        "\n",
        "    best_guess = best_guess+\" \"+j[0]"
      ],
      "metadata": {
        "colab": {
          "base_uri": "https://localhost:8080/"
        },
        "id": "AWrtjyAfYHqL",
        "outputId": "2cffef89-127c-4ae3-bf50-a5f952339b38"
      },
      "execution_count": null,
      "outputs": [
        {
          "output_type": "stream",
          "name": "stderr",
          "text": [
            "Keyword arguments {'return_tensors': 'pt'} not recognized.\n"
          ]
        },
        {
          "output_type": "stream",
          "name": "stdout",
          "text": [
            "['\"\"\"', 'qu', 'ier', 'o', 'Ġcom', 'er', '<mask>', '<mask>', '.\"', '\"\"']\n",
            "[7, 8]\n",
            "\n",
            "\n",
            "\n",
            "sentence :  \"\"\"quiero comer <mask> <mask>.\"\"\"\n",
            "\n",
            "\n",
            "['ci', 'a', 'cer', 'se', 'm', 'lo', 'al', 'á', 'í', 'sel', 'un', 'is', 'n', 't', 'c', 'cial', 'ce', 'con', 'is', 'est', 'si', 'ir', 'ment', 'br', 'me', 'los', 'el', 'que', 'te', 'c', 'liber', 'ar', 'cont', 'v', 'la', 'h', 'en', 'ah', 'to', 'arl', 'fin', 'la', 'car', 'z', 'aqu', 'ind', 'es', 'y', 'de', 'ía', 'as', 'b', 'bat', 'qu', 'rir', 'l', 'sid', 'd', 'com', 'pos', 'mad', 'gu', 'di', 'zar', 'je', 'rent', 'este', 've', 'lo', 'le', \"'\", 'ar', ',', 'ne', 'dorm', 'det', 'ber', 'do', 'ren', 'que', 'so', 'or', 'ti', 'ich', '-', 'j', \"'\", 'ser', 'present', 'ís', 're', 'e', 'var', 'contra', 'rier', 'zo', 'del', 'mes', 'me', 'ret']\n",
            "['o', 'os', 'á', 'lo', 'as', 'e', 'ás', 'ando', 'a', 'í', 'se', 'ar', 'ya', 'ía', 'los', 'ado', 'te', 'es', '...', '…', 'ver', 'do', 'ser', 'yo', 'é', 'vivo', 'ada', 'arse', 'i', 'la', 'l', 'me', 'ó', 'ir', 'ir', 'or', 'lo', '?', '!', 'on', 'ti', 'mal', 'onto', 'oso', 'me', 'ón', 'le', '</s>', '\"', '�', 'si', 'un', '.', \"'\", 'endo', 'que', 'no', 'les', 'nos', '�', 'fin', 'nos', 'a', 'o', 'cargo', '»', 'el', 'en', 'is', 'son', 'normal', 'real', 'con', 'y', 'se', 'mi', 'ad', 'án', 'ido', 'ante', 'an', 'es', 'ades', 'ia', 'Trump', 'tan', 'ont', 'ce', 'osa', 'je', 'tu', 'mos', 'ito', '´', 'ora', 'si', 'ud', 'grave', 'tal', '�']\n"
          ]
        }
      ]
    }
  ]
}